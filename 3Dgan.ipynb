{
  "nbformat": 4,
  "nbformat_minor": 0,
  "metadata": {
    "colab": {
      "provenance": []
    },
    "kernelspec": {
      "name": "python3",
      "display_name": "Python 3"
    },
    "language_info": {
      "name": "python"
    },
    "accelerator": "GPU"
  },
  "cells": [
    {
      "cell_type": "code",
      "execution_count": 1,
      "metadata": {
        "id": "Dqo8LyIwf47h"
      },
      "outputs": [],
      "source": [
        "%%capture\n",
        "!git clone https://github.com/ChristopherSims/3DStyleGAN\n",
        "%cd 3DStyleGAN"
      ]
    },
    {
      "cell_type": "code",
      "source": [
        "%%capture\n",
        "!pip install -r requirements.txt\n",
        "!pip install tensorflow=2.7.0\n",
        "!pip install tensorflow-gpu==2.8.0\n",
        "#!pip install tf-nightly-gpu\n",
        "!pip install pickle5\n"
      ],
      "metadata": {
        "id": "3oXWowgsggeO"
      },
      "execution_count": null,
      "outputs": []
    },
    {
      "cell_type": "code",
      "source": [
        "! nvcc --version"
      ],
      "metadata": {
        "id": "xTRnfNASXwRM"
      },
      "execution_count": null,
      "outputs": []
    },
    {
      "cell_type": "code",
      "source": [
        "import numpy as np\n",
        "R_seeds= np.random.randint(low = 10, high = 1200,size = 200)\n",
        "print(repr(R_seeds))"
      ],
      "metadata": {
        "id": "o6l6PDKZcK6M"
      },
      "execution_count": null,
      "outputs": []
    },
    {
      "cell_type": "code",
      "source": [
        "%%capture\n",
        "!python3 run_generator.py style-mixing-example --network=trained_networks/2mm_f128.pkl --row-seeds=800-1200 --col-seeds=500-900 --truncation-psi=0.0"
      ],
      "metadata": {
        "id": "L3O0OluPgr48"
      },
      "execution_count": null,
      "outputs": []
    },
    {
      "cell_type": "code",
      "source": [
        "#%%capture\n",
        "!python3 run_generator.py generate-images --network=trained_networks/2mm_f128.pkl --seeds=700-1100 --truncation-psi=0.0"
      ],
      "metadata": {
        "id": "OOSuviFVi-1N"
      },
      "execution_count": null,
      "outputs": []
    },
    {
      "cell_type": "code",
      "source": [
        "%%capture\n",
        "!zip -r /content/3DStyleGAN/results/MRI_2.zip  /content/3DStyleGAN/results/00002-generate-images"
      ],
      "metadata": {
        "id": "HCl_z2pefXk_"
      },
      "execution_count": null,
      "outputs": []
    },
    {
      "cell_type": "code",
      "source": [
        "from google.colab import files\n",
        "\n",
        "\n",
        "files.download(\"/content/3DStyleGAN/results/MRI_2.zip\")"
      ],
      "metadata": {
        "id": "3-0IR6iKfIGC"
      },
      "execution_count": null,
      "outputs": []
    }
  ]
}