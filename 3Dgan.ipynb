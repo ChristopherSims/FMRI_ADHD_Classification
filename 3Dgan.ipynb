{
  "nbformat": 4,
  "nbformat_minor": 0,
  "metadata": {
    "colab": {
      "name": "3Dgan.ipynb",
      "provenance": [],
      "collapsed_sections": []
    },
    "kernelspec": {
      "name": "python3",
      "display_name": "Python 3"
    },
    "language_info": {
      "name": "python"
    },
    "accelerator": "GPU"
  },
  "cells": [
    {
      "cell_type": "code",
      "execution_count": null,
      "metadata": {
        "id": "Dqo8LyIwf47h"
      },
      "outputs": [],
      "source": [
        "%%capture\n",
        "!git clone https://github.com/ChristopherSims/3DStyleGAN\n",
        "%cd 3DStyleGAN"
      ]
    },
    {
      "cell_type": "code",
      "source": [
        "%%capture\n",
        "!pip install -r requirements.txt\n",
        "#!pip install tensorflow\n",
        "#!pip install tensorflow-gpu==2.8.0\n",
        "#!pip install tf-nightly-gpu\n",
        "!pip install pickle5\n"
      ],
      "metadata": {
        "id": "3oXWowgsggeO"
      },
      "execution_count": null,
      "outputs": []
    },
    {
      "cell_type": "code",
      "source": [
        "import numpy as np\n",
        "R_seeds= np.random.randint(low = 10, high = 1200,size = 400)\n",
        "print(repr(R_seeds))"
      ],
      "metadata": {
        "id": "o6l6PDKZcK6M"
      },
      "execution_count": null,
      "outputs": []
    },
    {
      "cell_type": "code",
      "source": [
        "%%capture\n",
        "!python3 run_generator.py style-mixing-example --network=trained_networks/2mm_f128.pkl --row-seeds=800-1200 --col-seeds=500-900 --truncation-psi=0.0"
      ],
      "metadata": {
        "id": "L3O0OluPgr48"
      },
      "execution_count": null,
      "outputs": []
    },
    {
      "cell_type": "code",
      "source": [
        "#%%capture\n",
        "!python3 run_generator.py generate-images --network=trained_networks/2mm_f128.pkl --seeds=700-1100 --truncation-psi=0.0"
      ],
      "metadata": {
        "id": "OOSuviFVi-1N"
      },
      "execution_count": null,
      "outputs": []
    },
    {
      "cell_type": "code",
      "source": [
        "%%capture\n",
        "!zip -r /content/3DStyleGAN/results/MRI_2.zip  /content/3DStyleGAN/results/00002-generate-images"
      ],
      "metadata": {
        "id": "HCl_z2pefXk_"
      },
      "execution_count": null,
      "outputs": []
    },
    {
      "cell_type": "code",
      "source": [
        "from google.colab import files\n",
        "\n",
        "\n",
        "files.download(\"/content/3DStyleGAN/results/MRI_2.zip\")"
      ],
      "metadata": {
        "colab": {
          "base_uri": "https://localhost:8080/",
          "height": 34
        },
        "id": "3-0IR6iKfIGC",
        "outputId": "9131f025-78e7-472c-dda1-ca626647dd84"
      },
      "execution_count": null,
      "outputs": [
        {
          "output_type": "display_data",
          "data": {
            "text/plain": [
              "<IPython.core.display.Javascript object>"
            ],
            "application/javascript": [
              "\n",
              "    async function download(id, filename, size) {\n",
              "      if (!google.colab.kernel.accessAllowed) {\n",
              "        return;\n",
              "      }\n",
              "      const div = document.createElement('div');\n",
              "      const label = document.createElement('label');\n",
              "      label.textContent = `Downloading \"${filename}\": `;\n",
              "      div.appendChild(label);\n",
              "      const progress = document.createElement('progress');\n",
              "      progress.max = size;\n",
              "      div.appendChild(progress);\n",
              "      document.body.appendChild(div);\n",
              "\n",
              "      const buffers = [];\n",
              "      let downloaded = 0;\n",
              "\n",
              "      const channel = await google.colab.kernel.comms.open(id);\n",
              "      // Send a message to notify the kernel that we're ready.\n",
              "      channel.send({})\n",
              "\n",
              "      for await (const message of channel.messages) {\n",
              "        // Send a message to notify the kernel that we're ready.\n",
              "        channel.send({})\n",
              "        if (message.buffers) {\n",
              "          for (const buffer of message.buffers) {\n",
              "            buffers.push(buffer);\n",
              "            downloaded += buffer.byteLength;\n",
              "            progress.value = downloaded;\n",
              "          }\n",
              "        }\n",
              "      }\n",
              "      const blob = new Blob(buffers, {type: 'application/binary'});\n",
              "      const a = document.createElement('a');\n",
              "      a.href = window.URL.createObjectURL(blob);\n",
              "      a.download = filename;\n",
              "      div.appendChild(a);\n",
              "      a.click();\n",
              "      div.remove();\n",
              "    }\n",
              "  "
            ]
          },
          "metadata": {}
        },
        {
          "output_type": "display_data",
          "data": {
            "text/plain": [
              "<IPython.core.display.Javascript object>"
            ],
            "application/javascript": [
              "download(\"download_80faa6cc-0955-461a-a0bf-356a75d16765\", \"MRI_2.zip\", 177932261)"
            ]
          },
          "metadata": {}
        }
      ]
    }
  ]
}